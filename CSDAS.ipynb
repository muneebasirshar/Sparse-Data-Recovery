{
 "cells": [
  {
   "cell_type": "code",
   "execution_count": 162,
   "metadata": {},
   "outputs": [
    {
     "name": "stdout",
     "output_type": "stream",
     "text": [
      "1.13.3\n",
      "0.20.3\n",
      "2.1.0\n"
     ]
    }
   ],
   "source": [
    "#importing necssary files\n",
    "from __future__ import division, print_function, unicode_literals\n",
    "import numpy as np\n",
    "import pandas as pd \n",
    "get_ipython().magic(u'matplotlib inline')\n",
    "import matplotlib\n",
    "import math as mt\n",
    "import matplotlib.pyplot as plt\n",
    "from matplotlib.mlab import PCA\n",
    "\n",
    "#printing versions of current packages in use \n",
    "print(np.__version__)\n",
    "print(pd.__version__)\n",
    "print(matplotlib.__version__)\n",
    "\n",
    "#importing the csv file containing data of sensors, sorting them and selecting the required columns\n",
    "DataFile=pd.read_csv('C:/Users/muneeba/Desktop/THESIS/DataDistribution/Gaussian5/Gauss5.csv')\n",
    "DataFile2 = pd.read_csv('C:/Users/muneeba/Desktop/testgau1.csv')\n",
    "location=DataFile.iloc[:,1:3]\n",
    "DataSensors=DataFile.iloc[:,0:64]\n",
    "\n",
    "BasisNew=DataFile2\n",
    "\n",
    "#converting the sliced data into matrices \n",
    "returns = DataSensors[[key for key in dict(DataSensors.dtypes) if dict(DataSensors.dtypes)[key] in ['float64', 'int64']]] \n",
    "returns = returns[:65]\n",
    "returns_arr = returns.as_matrix()[:65]\n",
    "locations = location[[key for key in dict(location.dtypes) if dict(location.dtypes)[key] in ['float64', 'int64']]] \n",
    "locations = locations[:65] \n",
    "locations_arr = locations.as_matrix()[:65]"
   ]
  },
  {
   "cell_type": "code",
   "execution_count": 163,
   "metadata": {},
   "outputs": [
    {
     "data": {
      "text/plain": [
       "(64,)"
      ]
     },
     "execution_count": 163,
     "metadata": {},
     "output_type": "execute_result"
    }
   ],
   "source": [
    "#finding the eucledian distance \n",
    "dist=np.linalg.norm(locations_arr, axis=1)\n",
    "\n",
    "#finding index of the sensor with maximum eucledian dianace\n",
    "ind1 = np.unravel_index(np.argmax(dist, axis=None), dist.shape)\n",
    "ind1\n",
    "np.shape(dist)"
   ]
  },
  {
   "cell_type": "code",
   "execution_count": 164,
   "metadata": {},
   "outputs": [
    {
     "data": {
      "text/plain": [
       "0.86028483655124355"
      ]
     },
     "execution_count": 164,
     "metadata": {},
     "output_type": "execute_result"
    }
   ],
   "source": [
    "#maximum value of eucliedaian distance\n",
    "maxdis=np.max(dist)\n",
    "maxdis"
   ]
  },
  {
   "cell_type": "code",
   "execution_count": 165,
   "metadata": {
    "collapsed": true
   },
   "outputs": [],
   "source": [
    "#dviding by the maximum value throughout\n",
    "NormDist=np.divide(dist,maxdis)"
   ]
  },
  {
   "cell_type": "code",
   "execution_count": 166,
   "metadata": {
    "collapsed": true
   },
   "outputs": [],
   "source": [
    "#multiplying by lambda to scale the parameter for geographical location\n",
    "#let lambda is 0.5 \n",
    "DistParameter=np.multiply(0.5,NormDist)"
   ]
  },
  {
   "cell_type": "code",
   "execution_count": 167,
   "metadata": {},
   "outputs": [
    {
     "data": {
      "text/plain": [
       "(64, 64)"
      ]
     },
     "execution_count": 167,
     "metadata": {},
     "output_type": "execute_result"
    }
   ],
   "source": [
    "#now adding the data part for ths algorithum\n",
    "corr_mat=np.corrcoef(returns_arr,rowvar=True)\n",
    "corr_mat.shape\n",
    "\n",
    "#covariance matrix \n",
    "cov_mat = np.cov(returns_arr)\n",
    "cov_mat.shape"
   ]
  },
  {
   "cell_type": "code",
   "execution_count": 168,
   "metadata": {},
   "outputs": [
    {
     "data": {
      "text/plain": [
       "(64, 64)"
      ]
     },
     "execution_count": 168,
     "metadata": {},
     "output_type": "execute_result"
    }
   ],
   "source": [
    "#similarity matrix M \n",
    "Similarity=np.subtract(corr_mat,DistParameter)\n",
    "Similarity.shape\n",
    "np.shape(corr_mat)"
   ]
  },
  {
   "cell_type": "code",
   "execution_count": 169,
   "metadata": {},
   "outputs": [
    {
     "data": {
      "text/plain": [
       "(64, 64)"
      ]
     },
     "execution_count": 169,
     "metadata": {},
     "output_type": "execute_result"
    }
   ],
   "source": [
    "#similarity matrix M \n",
    "Similarity=np.subtract(corr_mat,DistParameter)\n",
    "Similarity.shape\n",
    "np.shape(corr_mat)"
   ]
  },
  {
   "cell_type": "code",
   "execution_count": 170,
   "metadata": {
    "collapsed": true
   },
   "outputs": [],
   "source": [
    "#jacobi function\n",
    "#Input:     input covariance matrix,   correlation coeffs, masked components\n",
    "#Output:   covariance of rotated data,  correlation coefficients for rotated data,      part of Jacobi rotation; rotation angle\n",
    "#indices of components that are rotated,      highest correlation,      correlation coefficient for pair\n",
    "# Description: Picks the two components with highest correlation coefficient. Decorrelate the two components with PCA\n",
    "# maskno = components which have been already masked by this algo\n",
    "     \n",
    "    \n",
    "from numpy import linalg as LA\n",
    "global R\n",
    "\n",
    "count =0\n",
    " \n",
    "\n",
    "def newJacobi(C,cc,maskno):\n",
    "    if (np.any(C)):\n",
    "        count= +1\n",
    "        if (np.any(cc)):\n",
    "            count+=1\n",
    "            if (maskno):\n",
    "                count+=1\n",
    "                 \n",
    "    \n",
    "     \n",
    "   # maskno=np.array([]) #creating an empty array for masked components\n",
    "     \n",
    "    tri=np.triu(cc) #extract the uppar triangular of covariance matrix\n",
    "    a=0\n",
    "    if (maskno==[]):\n",
    "        a=maskno[0]\n",
    "    else:\n",
    "        a=0\n",
    "    tri[a,:]=-1\n",
    "    tri[:,a]=-1  \n",
    "    ind = tri.argmax(0)\n",
    "    no1=ind[0]\n",
    "    no2=ind[1]\n",
    "    compno = [no1,no2]\n",
    "    maxcc=cc[no1][no2]\n",
    "    cred=np.zeros((2,2))\n",
    "    cred[0][0]=C[no1][no1]\n",
    "    cred[0][1]=C[no1][no2]\n",
    "    cred[1][0]=C[no2][no1]\n",
    "    cred[1][1]=C[no2][no2]\n",
    "    if (cred[0][1]==0): # this means that already we have found diagnoal matrix\n",
    "        Cnew=C\n",
    "        ccnew=cc\n",
    "        R=np.identity(2)\n",
    "        theta=0\n",
    "        idx=np.array([1,2])\n",
    "    else:\n",
    "        c11=cred[0][0]\n",
    "        c12=cred[0][1]\n",
    "        c21=cred[1][0]\n",
    "        c22=cred[1][1]\n",
    "        R=np.zeros((2,2))\n",
    "        theta = 1/2 *(mt.atan(2*c12/(c11-c22)))\n",
    "        cs=mt.cos(theta)\n",
    "        sn=mt.sin(theta)\n",
    "        R[0][0] =  cs\n",
    "        R[0][1] = (-1)*sn\n",
    "        R[1][0] = sn \n",
    "        R[1][1] = cs\n",
    "        M=C\n",
    "        Rtrans=R.T\n",
    "        M[no1][no1]=Rtrans[0][0]*C[no1][no1]\n",
    "        M[no1][no2]=Rtrans[0][1]*C[no1][no2]\n",
    "        M[no2][no1]=Rtrans[1][0]*C[no2][no1]\n",
    "        M[no2][no2]=Rtrans[1][1]*C[no2][no2]\n",
    "        Cnew=M\n",
    "        Cnew[no1][no1]=M[no1][no1]*R[0][0]\n",
    "        Cnew[no1][no2]=M[no1][no2]*R[0][1]\n",
    "        Cnew[no2][no1]=M[no2][no1]*R[1][0]\n",
    "        Cnew[no2][no2]=M[no2][no2]*R[1][1]\n",
    "        if (c11<c22):\n",
    "            idx=np.array([2,1])\n",
    "        else:\n",
    "            idx=np.array([1,2])\n",
    "        \n",
    "        dnew=np.diag(Cnew)\n",
    "        dnewT=dnew.T\n",
    "        temp1=dnew[no1]*dnewT[no1]\n",
    "        temp2=dnew[no2]*dnewT[no1]\n",
    "        temp=temp1+temp2\n",
    "        temp=mt.sqrt(temp)\n",
    "        ccnew=cc\n",
    "        ccnew[no1][:]=Cnew[no1][:]/temp\n",
    "        ccnew[no2][:]=Cnew[no2][:]/temp #ccnew is 64 by 64  \n",
    "        \n",
    "    \n",
    "   \n",
    "    return  Cnew,ccnew,R,theta,compno,maxcc,idx\n",
    " \n"
   ]
  },
  {
   "cell_type": "code",
   "execution_count": 171,
   "metadata": {
    "collapsed": true
   },
   "outputs": [],
   "source": [
    "# Build a hierical clustering tree\n",
    "# inputs: covariance matrix, correlation coeffs,   maxlevel  \n",
    "# outputs: positions of the two clusters merged, Element T{k} in the cell array contains a 2-by-2 rot matrix , ID of prinicipal \n",
    "# components,   all_nodes,   node labels,   theta ,    rotation angles that decorrelates inputs,   PC_ratio\n",
    "#ratio C_qq/C_pp , hierarchical cluster tree,  labels of the d-components in the comp,updaated covariance matrix,correlation  \n",
    "\n",
    "\n",
    "import sys\n",
    "global count1 \n",
    "count1=0\n",
    "dim=64 #no od rows od covarince matrix\n",
    "dim2=64 #no. of columns od covaraince matrix\n",
    "\n",
    "def Build_JTree(C,cc,maxlevel):\n",
    "    \n",
    "           \n",
    "     \n",
    "    if (np.any(C)):\n",
    "        count1= +1\n",
    "        if (np.any(cc)):\n",
    "            count1+=1\n",
    "            if (maxlevel):\n",
    "                count1+=1\n",
    "                 \n",
    "                       \n",
    "  \n",
    "            \n",
    "     \n",
    "             \n",
    "    J=maxlevel-1    \n",
    "    Z = np.zeros((J,3))   # columns 1 and 2 contain the indices of the nodes that are merged\n",
    "    T = np.ones((2,2))  # 2-by-2 rotation matrices for levels L=0,1,..,J-1\n",
    "    theta = np.zeros((J,1)) #rotation angles\n",
    "    PCidx=np.zeros((J,2))  # order of principal components, [1 2] or [2 1]\n",
    "        \n",
    "    L=0\n",
    "    maskno=np.array([]) #0L\n",
    "    nodes=np.zeros((1,64)) #1L by 64L\n",
    "    dlabels=np.zeros((1,dim)) #1L by 64L\n",
    "    PC_ratio=np.zeros((dim-1,1)) #63L by 1L\n",
    "    Zpos=np.zeros((J,2)) #19L by 2L\n",
    "    all_d=np.zeros((J,dim)) #19L by 64L\n",
    "    all_nodes=np.zeros((J,dim)) #19L by 64L\n",
    "    \n",
    "    \n",
    "    for lev in range (J-1):\n",
    "        [Cnew,ccnew,R,th,compno,maxcc,idx]=newJacobi(C,cc,maskno)\n",
    "        dist = (1-maxcc)/2\n",
    "        no1=compno[0]\n",
    "        no2=compno[1]\n",
    "        Zpos[:][lev]=dist\n",
    "        Zpos[no1][:]=nodes[0][no1]\n",
    "        Zpos[no2][:]=nodes[0][no2]\n",
    "        T=R\n",
    "        theta[lev]=th\n",
    "        PCidx[lev][:]=idx\n",
    "        C=Cnew\n",
    "        cc=ccnew\n",
    "        component1=idx[0]\n",
    "        component2=idx[1]\n",
    "        pind=[component1,component2]\n",
    "        p1=pind[0]\n",
    "        p2=pind[1]\n",
    "        nodes[0][p1]=np.array([dim+lev])\n",
    "        nodes[0][p2]=np.array([dim+lev])\n",
    "        dlabels[0][p2]=np.array((lev)) #abels of d-components in vector\n",
    "        maskno=[maskno,p2]\n",
    "        PC_ratio[lev]=C[p2][p2]/C[p1][p1]\n",
    "        Zpos[lev][:] =np.array(compno) # their positions in the component vector\n",
    "        transdlabels=dlabels.T\n",
    "        all_d[lev][:]=transdlabels[0]\n",
    "        all_nodes[lev][:]=nodes \n",
    "        \n",
    "    return  Zpos,T,PCidx,maxlevel,all_nodes,Cnew,nodes"
   ]
  },
  {
   "cell_type": "code",
   "execution_count": 172,
   "metadata": {},
   "outputs": [
    {
     "data": {
      "text/plain": [
       "array([[  0.,   0.],\n",
       "       [ 65.,  65.],\n",
       "       [  0.,   1.],\n",
       "       [  0.,   0.]])"
      ]
     },
     "execution_count": 172,
     "metadata": {},
     "output_type": "execute_result"
    }
   ],
   "source": [
    "maxlevel=5\n",
    "[Zpos,T,PCidx,maxlev,all_nodes,Cnew,nodes]=Build_JTree(cov_mat,corr_mat,maxlevel)\n",
    "all_nodes\n",
    "\n",
    "np.shape(all_nodes)\n",
    "type(Zpos)\n",
    "np.shape(Zpos)\n",
    "Zpos"
   ]
  },
  {
   "cell_type": "code",
   "execution_count": 173,
   "metadata": {
    "collapsed": true
   },
   "outputs": [],
   "source": [
    "#Calculate the basis for the Jacobi tree algorithm\n",
    "#inputs : hierarchical cluster information, Element T{k} in the cell array contains a 2-by-2 matrix, id of principal components  \n",
    "# maxlev, node labels\n",
    "#outputs : Output:   basis(m,m),    sums(J,m),  difs(J,m)  \n",
    " \n",
    "global basis\n",
    "def JTree_Basis(Zpos,T,PCidx,maxlev,all_nodes,nodes):\n",
    "    J=np.shape(Zpos[1])\n",
    "    m=np.shape(all_nodes[0])\n",
    "    nodes=np.zeros((1,64))\n",
    "    nodes = all_nodes[0][:]\n",
    "    nodes= np.nonzero(nodes)\n",
    "    del all_nodes\n",
    "    tmpfilts=np.diag(np.ones(m))\n",
    "    ind=np.zeros(J)\n",
    "    sums=np.zeros((maxlev,64))\n",
    "    difs=np.zeros((maxlev,64))\n",
    "    for lev in range(4):\n",
    "        d1=Zpos[lev,0:1]\n",
    "        d1=int(d1)\n",
    "        if d1<64:\n",
    "            s=tmpfilts[d1,:]\n",
    "        else:\n",
    "            d2=d1-2\n",
    "            s=tmpfilts[d2,:]\n",
    "        R=T\n",
    "        y=(R.T)*s[lev]\n",
    "        if d1<64:\n",
    "            tmpfilts[d1,lev]=y[0][1]\n",
    "        else:\n",
    "            d2=d1-2\n",
    "            tmpfilts[d2,lev]=y[0][1]\n",
    "        t1=PCidx[0][0]\n",
    "        t2=PCidx[0][1]\n",
    "        t1=int(t1)\n",
    "        t2=int(t2)\n",
    "        y=y[t1:t2,:]\n",
    "        sums[lev,:]=y[0][0]\n",
    "        difs[lev,:]=y[0][1]\n",
    "        \n",
    "    tmp = [np.diag(np.ones(m)), sums]\n",
    "    p=np.flipud(difs)\n",
    "    tt1=nodes[0][0]\n",
    "           \n",
    "    basis  = [tmp[tt1], p]\n",
    "     \n",
    "    \n",
    "     \n",
    "    \n",
    "    return sums,difs,basis"
   ]
  },
  {
   "cell_type": "code",
   "execution_count": 174,
   "metadata": {},
   "outputs": [
    {
     "data": {
      "text/plain": [
       "(64,)"
      ]
     },
     "execution_count": 174,
     "metadata": {},
     "output_type": "execute_result"
    }
   ],
   "source": [
    "maxlev=5\n",
    "sums,difs,basis=JTree_Basis(Zpos,T,PCidx,maxlev,all_nodes,nodes)\n",
    "np.shape(basis)\n",
    "b2=basis[1][maxlev-1][:] #\n",
    "np.shape(b2)\n"
   ]
  },
  {
   "cell_type": "code",
   "execution_count": 175,
   "metadata": {
    "collapsed": true
   },
   "outputs": [],
   "source": [
    "def cosamp(phi, u, s, epsilon=1e-10, max_iter=1000):\n",
    "    \"\"\"\n",
    "    Return an `s`-sparse approximation of the target signal\n",
    "    Input:\n",
    "        - phi, sampling matrix\n",
    "        - u, noisy sample vector\n",
    "        - s, sparsity\n",
    "    \"\"\"\n",
    "    a = np.zeros(phi.shape[1])\n",
    "    v = u\n",
    "    it = 0 # count\n",
    "    halt = False\n",
    "    while not halt:\n",
    "        it += 1\n",
    "        print(\"Iteration {}\\r\".format(it), end=\"\")\n",
    "        \n",
    "        y = np.dot(np.transpose(phi), v)\n",
    "        omega = np.argsort(y)[-(2*s):] # large components\n",
    "        omega = np.union1d(omega, a.nonzero()[0]) # use set instead?\n",
    "        phiT = phi[:, omega]\n",
    "        b = np.zeros(phi.shape[1])\n",
    "        # Solve Least Square\n",
    "        b[omega], _, _, _ = np.linalg.lstsq(phiT, u)\n",
    "        \n",
    "        # Get new estimate\n",
    "        b[np.argsort(b)[:-s]] = 0\n",
    "        a = b\n",
    "        \n",
    "        # Halt criterion\n",
    "        v_old = v\n",
    "        v = u - np.dot(phi, a)\n",
    "\n",
    "        halt = (np.linalg.norm(v - v_old) < epsilon) or \\\n",
    "            np.linalg.norm(v) < epsilon or \\\n",
    "            it > max_iter\n",
    "        \n",
    "    return a"
   ]
  },
  {
   "cell_type": "code",
   "execution_count": 180,
   "metadata": {},
   "outputs": [
    {
     "data": {
      "text/plain": [
       "(64, 64)"
      ]
     },
     "execution_count": 180,
     "metadata": {},
     "output_type": "execute_result"
    }
   ],
   "source": [
    "BasisNeww=BasisNew.iloc[:,0:64]\n",
    "BaisNeww2=BasisNeww[0:64]\n",
    "B2=BaisNeww2.iloc[0:64]\n",
    "np.shape(returns_arr)\n",
    " "
   ]
  },
  {
   "cell_type": "code",
   "execution_count": 195,
   "metadata": {},
   "outputs": [
    {
     "data": {
      "text/plain": [
       "(64,)"
      ]
     },
     "execution_count": 195,
     "metadata": {},
     "output_type": "execute_result"
    }
   ],
   "source": [
    "n_rows = 64\n",
    "n_cols = 64\n",
    "sparsity = 64\n",
    "\n",
    "\n",
    "A = np.random.normal(0, 1, [n_rows, n_cols])\n",
    "# Generate sparse x and noise\n",
    "x = np.zeros(n_cols)\n",
    "x[np.random.randint(1, n_cols, [sparsity])] = np.random.chisquare(15, [sparsity])\n",
    "noise = np.random.normal(0, 1, [n_cols])\n",
    "x1=np.multiply(A,B2)\n",
    " \n",
    "u = x + noise\n",
    "\n",
    "\n",
    "y = np.dot(A, x1)\n",
    "np.shape(x)"
   ]
  },
  {
   "cell_type": "code",
   "execution_count": 196,
   "metadata": {},
   "outputs": [
    {
     "name": "stdout",
     "output_type": "stream",
     "text": [
      "Iteration 1\r"
     ]
    },
    {
     "ename": "ValueError",
     "evalue": "all the input arrays must have same number of dimensions",
     "output_type": "error",
     "traceback": [
      "\u001b[1;31m---------------------------------------------------------------------------\u001b[0m",
      "\u001b[1;31mValueError\u001b[0m                                Traceback (most recent call last)",
      "\u001b[1;32m<ipython-input-196-688ea34a82cf>\u001b[0m in \u001b[0;36m<module>\u001b[1;34m()\u001b[0m\n\u001b[1;32m----> 1\u001b[1;33m \u001b[0mx_est\u001b[0m \u001b[1;33m=\u001b[0m \u001b[0mcosamp\u001b[0m\u001b[1;33m(\u001b[0m\u001b[0mA\u001b[0m\u001b[1;33m,\u001b[0m \u001b[0my\u001b[0m\u001b[1;33m,\u001b[0m\u001b[1;36m64\u001b[0m \u001b[1;33m)\u001b[0m\u001b[1;33m\u001b[0m\u001b[0m\n\u001b[0m\u001b[0;32m      2\u001b[0m \u001b[1;31m# Score estimation\u001b[0m\u001b[1;33m\u001b[0m\u001b[1;33m\u001b[0m\u001b[0m\n\u001b[0;32m      3\u001b[0m \u001b[0mnp\u001b[0m\u001b[1;33m.\u001b[0m\u001b[0mlinalg\u001b[0m\u001b[1;33m.\u001b[0m\u001b[0mnorm\u001b[0m\u001b[1;33m(\u001b[0m\u001b[0mx\u001b[0m \u001b[1;33m-\u001b[0m \u001b[0mx_est\u001b[0m\u001b[1;33m)\u001b[0m \u001b[1;33m/\u001b[0m \u001b[0mnp\u001b[0m\u001b[1;33m.\u001b[0m\u001b[0mlinalg\u001b[0m\u001b[1;33m.\u001b[0m\u001b[0mnorm\u001b[0m\u001b[1;33m(\u001b[0m\u001b[0mx\u001b[0m\u001b[1;33m)\u001b[0m\u001b[1;33m\u001b[0m\u001b[0m\n",
      "\u001b[1;32m<ipython-input-175-231cb302ce59>\u001b[0m in \u001b[0;36mcosamp\u001b[1;34m(phi, u, s, epsilon, max_iter)\u001b[0m\n\u001b[0;32m     17\u001b[0m         \u001b[0my\u001b[0m \u001b[1;33m=\u001b[0m \u001b[0mnp\u001b[0m\u001b[1;33m.\u001b[0m\u001b[0mdot\u001b[0m\u001b[1;33m(\u001b[0m\u001b[0mnp\u001b[0m\u001b[1;33m.\u001b[0m\u001b[0mtranspose\u001b[0m\u001b[1;33m(\u001b[0m\u001b[0mphi\u001b[0m\u001b[1;33m)\u001b[0m\u001b[1;33m,\u001b[0m \u001b[0mv\u001b[0m\u001b[1;33m)\u001b[0m\u001b[1;33m\u001b[0m\u001b[0m\n\u001b[0;32m     18\u001b[0m         \u001b[0momega\u001b[0m \u001b[1;33m=\u001b[0m \u001b[0mnp\u001b[0m\u001b[1;33m.\u001b[0m\u001b[0margsort\u001b[0m\u001b[1;33m(\u001b[0m\u001b[0my\u001b[0m\u001b[1;33m)\u001b[0m\u001b[1;33m[\u001b[0m\u001b[1;33m-\u001b[0m\u001b[1;33m(\u001b[0m\u001b[1;36m2\u001b[0m\u001b[1;33m*\u001b[0m\u001b[0ms\u001b[0m\u001b[1;33m)\u001b[0m\u001b[1;33m:\u001b[0m\u001b[1;33m]\u001b[0m \u001b[1;31m# large components\u001b[0m\u001b[1;33m\u001b[0m\u001b[0m\n\u001b[1;32m---> 19\u001b[1;33m         \u001b[0momega\u001b[0m \u001b[1;33m=\u001b[0m \u001b[0mnp\u001b[0m\u001b[1;33m.\u001b[0m\u001b[0munion1d\u001b[0m\u001b[1;33m(\u001b[0m\u001b[0momega\u001b[0m\u001b[1;33m,\u001b[0m \u001b[0ma\u001b[0m\u001b[1;33m.\u001b[0m\u001b[0mnonzero\u001b[0m\u001b[1;33m(\u001b[0m\u001b[1;33m)\u001b[0m\u001b[1;33m[\u001b[0m\u001b[1;36m0\u001b[0m\u001b[1;33m]\u001b[0m\u001b[1;33m)\u001b[0m \u001b[1;31m# use set instead?\u001b[0m\u001b[1;33m\u001b[0m\u001b[0m\n\u001b[0m\u001b[0;32m     20\u001b[0m         \u001b[0mphiT\u001b[0m \u001b[1;33m=\u001b[0m \u001b[0mphi\u001b[0m\u001b[1;33m[\u001b[0m\u001b[1;33m:\u001b[0m\u001b[1;33m,\u001b[0m \u001b[0momega\u001b[0m\u001b[1;33m]\u001b[0m\u001b[1;33m\u001b[0m\u001b[0m\n\u001b[0;32m     21\u001b[0m         \u001b[0mb\u001b[0m \u001b[1;33m=\u001b[0m \u001b[0mnp\u001b[0m\u001b[1;33m.\u001b[0m\u001b[0mzeros\u001b[0m\u001b[1;33m(\u001b[0m\u001b[0mphi\u001b[0m\u001b[1;33m.\u001b[0m\u001b[0mshape\u001b[0m\u001b[1;33m[\u001b[0m\u001b[1;36m1\u001b[0m\u001b[1;33m]\u001b[0m\u001b[1;33m)\u001b[0m\u001b[1;33m\u001b[0m\u001b[0m\n",
      "\u001b[1;32m~\\Anaconda3\\lib\\site-packages\\numpy\\lib\\arraysetops.py\u001b[0m in \u001b[0;36munion1d\u001b[1;34m(ar1, ar2)\u001b[0m\n\u001b[0;32m    612\u001b[0m     \u001b[0marray\u001b[0m\u001b[1;33m(\u001b[0m\u001b[1;33m[\u001b[0m\u001b[1;36m1\u001b[0m\u001b[1;33m,\u001b[0m \u001b[1;36m2\u001b[0m\u001b[1;33m,\u001b[0m \u001b[1;36m3\u001b[0m\u001b[1;33m,\u001b[0m \u001b[1;36m4\u001b[0m\u001b[1;33m,\u001b[0m \u001b[1;36m6\u001b[0m\u001b[1;33m]\u001b[0m\u001b[1;33m)\u001b[0m\u001b[1;33m\u001b[0m\u001b[0m\n\u001b[0;32m    613\u001b[0m     \"\"\"\n\u001b[1;32m--> 614\u001b[1;33m     \u001b[1;32mreturn\u001b[0m \u001b[0munique\u001b[0m\u001b[1;33m(\u001b[0m\u001b[0mnp\u001b[0m\u001b[1;33m.\u001b[0m\u001b[0mconcatenate\u001b[0m\u001b[1;33m(\u001b[0m\u001b[1;33m(\u001b[0m\u001b[0mar1\u001b[0m\u001b[1;33m,\u001b[0m \u001b[0mar2\u001b[0m\u001b[1;33m)\u001b[0m\u001b[1;33m)\u001b[0m\u001b[1;33m)\u001b[0m\u001b[1;33m\u001b[0m\u001b[0m\n\u001b[0m\u001b[0;32m    615\u001b[0m \u001b[1;33m\u001b[0m\u001b[0m\n\u001b[0;32m    616\u001b[0m \u001b[1;32mdef\u001b[0m \u001b[0msetdiff1d\u001b[0m\u001b[1;33m(\u001b[0m\u001b[0mar1\u001b[0m\u001b[1;33m,\u001b[0m \u001b[0mar2\u001b[0m\u001b[1;33m,\u001b[0m \u001b[0massume_unique\u001b[0m\u001b[1;33m=\u001b[0m\u001b[1;32mFalse\u001b[0m\u001b[1;33m)\u001b[0m\u001b[1;33m:\u001b[0m\u001b[1;33m\u001b[0m\u001b[0m\n",
      "\u001b[1;31mValueError\u001b[0m: all the input arrays must have same number of dimensions"
     ]
    }
   ],
   "source": [
    "x_est = cosamp(A, y,64 )\n",
    "# Score estimation\n",
    "np.linalg.norm(x - x_est) / np.linalg.norm(x)"
   ]
  },
  {
   "cell_type": "code",
   "execution_count": null,
   "metadata": {
    "collapsed": true
   },
   "outputs": [],
   "source": []
  },
  {
   "cell_type": "code",
   "execution_count": null,
   "metadata": {
    "collapsed": true
   },
   "outputs": [],
   "source": []
  },
  {
   "cell_type": "code",
   "execution_count": null,
   "metadata": {
    "collapsed": true
   },
   "outputs": [],
   "source": []
  }
 ],
 "metadata": {
  "kernelspec": {
   "display_name": "Python 3",
   "language": "python",
   "name": "python3"
  },
  "language_info": {
   "codemirror_mode": {
    "name": "ipython",
    "version": 3
   },
   "file_extension": ".py",
   "mimetype": "text/x-python",
   "name": "python",
   "nbconvert_exporter": "python",
   "pygments_lexer": "ipython3",
   "version": "3.6.3"
  }
 },
 "nbformat": 4,
 "nbformat_minor": 2
}
