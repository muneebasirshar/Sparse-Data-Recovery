{
 "cells": [
  {
   "cell_type": "code",
   "execution_count": 889,
   "metadata": {},
   "outputs": [],
   "source": [
    "import pandas as pd\n",
    "import numpy as np\n",
    "import matplotlib.pyplot as plt\n",
    "DataFile=pd.read_csv('C:/Users/muneeba/Desktop/THESIS/DataDistribution/Gaussian4/Gauss4.csv')\n",
    "BasisFile=pd.read_csv('C:/Users/muneeba/Desktop/THESIS/DataDistribution/Gaussian4/Basis4.csv')"
   ]
  },
  {
   "cell_type": "code",
   "execution_count": 895,
   "metadata": {},
   "outputs": [
    {
     "name": "stdout",
     "output_type": "stream",
     "text": [
      "4\n"
     ]
    },
    {
     "data": {
      "text/plain": [
       "(64,)"
      ]
     },
     "execution_count": 895,
     "metadata": {},
     "output_type": "execute_result"
    }
   ],
   "source": [
    "Basek=BasisFile.iloc[:,64]\n",
    "Bk=Basek[:64]\n",
    "print(np.count_nonzero(Bk)) # This Has 3 K sparse elements\n",
    "xk=DataFile.iloc[:,64]\n",
    "xk=xk[:64]\n",
    "s1=np.matmul(xk,Bk)\n",
    "np.shape(Bk)"
   ]
  },
  {
   "cell_type": "code",
   "execution_count": 896,
   "metadata": {},
   "outputs": [
    {
     "name": "stdout",
     "output_type": "stream",
     "text": [
      "(64,)\n",
      "64\n"
     ]
    }
   ],
   "source": [
    "datax=DataFile.iloc[:,0:64]\n",
    "Tk=np.sum(datax,axis=0)\n",
    "tkdash=np.divide(Tk,64)\n",
    "sparsi=np.subtract(xk,tkdash)\n",
    "print(np.shape(sparsi)) \n",
    "print(np.count_nonzero(sparsi))\n",
    "b=np.matmul(Bk,sparsi)"
   ]
  },
  {
   "cell_type": "code",
   "execution_count": 897,
   "metadata": {
    "collapsed": true
   },
   "outputs": [],
   "source": [
    "def cosamp(phi, u, s, epsilon=1e-10, max_iter=100):\n",
    "    \"\"\"\n",
    "    Return an `s`-sparse approximation of the target signal\n",
    "    Input:\n",
    "        - phi, sampling matrix\n",
    "        - u, noisy sample vector\n",
    "        - s, sparsity\n",
    "    \"\"\"\n",
    "    a = np.zeros(phi.shape[0])\n",
    "    v = u\n",
    "    it = 0 # count\n",
    "    halt = False\n",
    "    while not halt:\n",
    "        it += 1\n",
    "        print(\"Iteration {}\\r\".format(it), end=\"\")\n",
    "        \n",
    "        y = np.dot(np.transpose(phi), v)\n",
    "        omega = np.argsort(y)[-(2*s):] # large components\n",
    "        omega = np.union1d(omega, a.nonzero()[0]) # use set instead?\n",
    "        phiT = phi[:, omega]\n",
    "        b = np.zeros(phi.shape[1])\n",
    "        # Solve Least Square\n",
    "        b[omega], _, _, _ = np.linalg.lstsq(phiT, u)\n",
    "        \n",
    "        # Get new estimate\n",
    "        b[np.argsort(b)[:-s]] = 0\n",
    "        a = b\n",
    "        \n",
    "        # Halt criterion\n",
    "        v_old = v\n",
    "        v = u - np.dot(phi, a)\n",
    "\n",
    "        halt = (np.linalg.norm(v - v_old) < epsilon) or \\\n",
    "            np.linalg.norm(v) < epsilon or \\\n",
    "            it > max_iter\n",
    "        \n",
    "    return a"
   ]
  },
  {
   "cell_type": "code",
   "execution_count": 898,
   "metadata": {},
   "outputs": [
    {
     "data": {
      "text/plain": [
       "(64,)"
      ]
     },
     "execution_count": 898,
     "metadata": {},
     "output_type": "execute_result"
    }
   ],
   "source": [
    "n_rows = 64\n",
    "n_cols = 64\n",
    "sparsity = 64\n",
    "\n",
    "\n",
    "A = np.random.normal(0, 1, [n_rows, n_cols])\n",
    "# Generate sparse x and noise\n",
    "x = np.zeros(n_cols)\n",
    "x[np.random.randint(1, n_cols, [sparsity])] = np.random.chisquare(15, [sparsity])\n",
    " \n",
    "x1=np.multiply(x,Bk)\n",
    " \n",
    "\n",
    "y = np.dot(A, x1)\n",
    "np.shape(y) "
   ]
  },
  {
   "cell_type": "code",
   "execution_count": 899,
   "metadata": {},
   "outputs": [
    {
     "name": "stdout",
     "output_type": "stream",
     "text": [
      "Iteration 1\r"
     ]
    },
    {
     "data": {
      "text/plain": [
       "1.4331427595864585e-14"
      ]
     },
     "execution_count": 899,
     "metadata": {},
     "output_type": "execute_result"
    }
   ],
   "source": [
    "x_est = cosamp(A, y, 64)\n",
    "# Score estimation \n",
    "np.linalg.norm(x1-x_est) / np.linalg.norm(x1)"
   ]
  },
  {
   "cell_type": "code",
   "execution_count": null,
   "metadata": {},
   "outputs": [],
   "source": [
    " "
   ]
  },
  {
   "cell_type": "code",
   "execution_count": null,
   "metadata": {
    "collapsed": true
   },
   "outputs": [],
   "source": []
  },
  {
   "cell_type": "code",
   "execution_count": null,
   "metadata": {
    "collapsed": true
   },
   "outputs": [],
   "source": []
  },
  {
   "cell_type": "code",
   "execution_count": null,
   "metadata": {
    "collapsed": true
   },
   "outputs": [],
   "source": []
  }
 ],
 "metadata": {
  "kernelspec": {
   "display_name": "Python 3",
   "language": "python",
   "name": "python3"
  },
  "language_info": {
   "codemirror_mode": {
    "name": "ipython",
    "version": 3
   },
   "file_extension": ".py",
   "mimetype": "text/x-python",
   "name": "python",
   "nbconvert_exporter": "python",
   "pygments_lexer": "ipython3",
   "version": "3.6.3"
  }
 },
 "nbformat": 4,
 "nbformat_minor": 2
}
