{
 "cells": [
  {
   "cell_type": "code",
   "execution_count": 93,
   "metadata": {},
   "outputs": [
    {
     "name": "stdout",
     "output_type": "stream",
     "text": [
      "1.12.1\n",
      "0.22.0\n",
      "2.2.0\n"
     ]
    }
   ],
   "source": [
    "#importing necssary files\n",
    "from __future__ import division, print_function, unicode_literals\n",
    "import numpy as np\n",
    "import pandas as pd \n",
    "get_ipython().magic(u'matplotlib inline')\n",
    "import matplotlib\n",
    "import math as mt\n",
    "import matplotlib.pyplot as plt\n",
    "from matplotlib.mlab import PCA\n",
    "\n",
    "#printing versions of current packages in use \n",
    "print(np.__version__)\n",
    "print(pd.__version__)\n",
    "print(matplotlib.__version__)\n",
    "\n",
    "#importing the csv file containing data of sensors, sorting them and selecting the required columns\n",
    "DataFile = pd.read_csv('C:/Users/muneeba/Desktop/THESIS/DataDistributionPCA.csv')\n",
    "location=DataFile.iloc[:,1:3]\n",
    "DataSensors=DataFile.iloc[:,4:68]\n",
    "\n",
    "\n",
    "\n",
    "#converting the sliced data into matrices \n",
    "returns = DataSensors[[key for key in dict(DataSensors.dtypes) if dict(DataSensors.dtypes)[key] in ['float64', 'int64']]] \n",
    "returns = returns[:65]\n",
    "returns_arr = returns.as_matrix()[:65]\n",
    "locations = location[[key for key in dict(location.dtypes) if dict(location.dtypes)[key] in ['float64', 'int64']]] \n",
    "locations = locations[:65] \n",
    "locations_arr = locations.as_matrix()[:65]"
   ]
  },
  {
   "cell_type": "code",
   "execution_count": 94,
   "metadata": {},
   "outputs": [
    {
     "data": {
      "text/plain": [
       "array([[ 1,  1],\n",
       "       [ 3,  1],\n",
       "       [ 5,  1],\n",
       "       [ 7,  1],\n",
       "       [ 9,  1],\n",
       "       [11,  1],\n",
       "       [13,  1],\n",
       "       [15,  1],\n",
       "       [ 1,  3],\n",
       "       [ 3,  3],\n",
       "       [ 5,  3],\n",
       "       [ 7,  3],\n",
       "       [ 9,  3],\n",
       "       [11,  3],\n",
       "       [13,  3],\n",
       "       [15,  3],\n",
       "       [ 1,  5],\n",
       "       [ 3,  5],\n",
       "       [ 5,  5],\n",
       "       [ 7,  5],\n",
       "       [ 9,  5],\n",
       "       [11,  5],\n",
       "       [13,  5],\n",
       "       [15,  5],\n",
       "       [ 1,  7],\n",
       "       [ 3,  7],\n",
       "       [ 5,  7],\n",
       "       [ 7,  7],\n",
       "       [ 9,  7],\n",
       "       [11,  7],\n",
       "       [13,  7],\n",
       "       [15,  7],\n",
       "       [ 1,  9],\n",
       "       [ 3,  9],\n",
       "       [ 5,  9],\n",
       "       [ 7,  9],\n",
       "       [ 9,  9],\n",
       "       [11,  9],\n",
       "       [13,  9],\n",
       "       [15,  9],\n",
       "       [ 1, 11],\n",
       "       [ 3, 11],\n",
       "       [ 5, 11],\n",
       "       [ 7, 11],\n",
       "       [ 9, 11],\n",
       "       [11, 11],\n",
       "       [13, 11],\n",
       "       [15, 11],\n",
       "       [ 1, 13],\n",
       "       [ 3, 13],\n",
       "       [ 5, 13],\n",
       "       [ 7, 13],\n",
       "       [ 9, 13],\n",
       "       [11, 13],\n",
       "       [13, 13],\n",
       "       [15, 13],\n",
       "       [ 1, 15],\n",
       "       [ 3, 15],\n",
       "       [ 5, 15],\n",
       "       [ 7, 15],\n",
       "       [ 9, 15],\n",
       "       [11, 15],\n",
       "       [13, 15],\n",
       "       [15, 15]], dtype=int64)"
      ]
     },
     "execution_count": 94,
     "metadata": {},
     "output_type": "execute_result"
    }
   ],
   "source": [
    "locations_arr"
   ]
  },
  {
   "cell_type": "code",
   "execution_count": 95,
   "metadata": {},
   "outputs": [
    {
     "data": {
      "text/plain": [
       "(64L, 64L)"
      ]
     },
     "execution_count": 95,
     "metadata": {},
     "output_type": "execute_result"
    }
   ],
   "source": [
    "from scipy.spatial import distance\n",
    "distsensors=distance.cdist(locations_arr, locations_arr, 'euclidean')\n",
    "np.shape(distsensors)"
   ]
  },
  {
   "cell_type": "code",
   "execution_count": 96,
   "metadata": {},
   "outputs": [
    {
     "data": {
      "text/plain": [
       "array([[  0.        ,   2.        ,   4.        , ...,  17.20465053,\n",
       "         18.43908891,  19.79898987],\n",
       "       [  2.        ,   0.        ,   2.        , ...,  16.1245155 ,\n",
       "         17.20465053,  18.43908891],\n",
       "       [  4.        ,   2.        ,   0.        , ...,  15.23154621,\n",
       "         16.1245155 ,  17.20465053],\n",
       "       ..., \n",
       "       [ 17.20465053,  16.1245155 ,  15.23154621, ...,   0.        ,\n",
       "          2.        ,   4.        ],\n",
       "       [ 18.43908891,  17.20465053,  16.1245155 , ...,   2.        ,\n",
       "          0.        ,   2.        ],\n",
       "       [ 19.79898987,  18.43908891,  17.20465053, ...,   4.        ,\n",
       "          2.        ,   0.        ]])"
      ]
     },
     "execution_count": 96,
     "metadata": {},
     "output_type": "execute_result"
    }
   ],
   "source": [
    "distsensors"
   ]
  },
  {
   "cell_type": "code",
   "execution_count": 97,
   "metadata": {},
   "outputs": [
    {
     "data": {
      "text/plain": [
       "19.798989873223331"
      ]
     },
     "execution_count": 97,
     "metadata": {},
     "output_type": "execute_result"
    }
   ],
   "source": [
    "maxdis=np.max(distsensors)\n",
    "maxdis   # maximum distance will be between last and first sensor"
   ]
  },
  {
   "cell_type": "code",
   "execution_count": 98,
   "metadata": {},
   "outputs": [
    {
     "data": {
      "text/plain": [
       "array([[ 0.        ,  0.10101525,  0.20203051, ...,  0.86896608,\n",
       "         0.93131463,  1.        ],\n",
       "       [ 0.10101525,  0.        ,  0.10101525, ...,  0.81441102,\n",
       "         0.86896608,  0.93131463],\n",
       "       [ 0.20203051,  0.10101525,  0.        , ...,  0.76930926,\n",
       "         0.81441102,  0.86896608],\n",
       "       ..., \n",
       "       [ 0.86896608,  0.81441102,  0.76930926, ...,  0.        ,\n",
       "         0.10101525,  0.20203051],\n",
       "       [ 0.93131463,  0.86896608,  0.81441102, ...,  0.10101525,\n",
       "         0.        ,  0.10101525],\n",
       "       [ 1.        ,  0.93131463,  0.86896608, ...,  0.20203051,\n",
       "         0.10101525,  0.        ]])"
      ]
     },
     "execution_count": 98,
     "metadata": {},
     "output_type": "execute_result"
    }
   ],
   "source": [
    "#dviding by the maximum value throughout\n",
    "NormDist=np.divide(distsensors,maxdis)\n",
    "NormDist"
   ]
  },
  {
   "cell_type": "code",
   "execution_count": 99,
   "metadata": {},
   "outputs": [
    {
     "data": {
      "text/plain": [
       "1.0"
      ]
     },
     "execution_count": 99,
     "metadata": {},
     "output_type": "execute_result"
    }
   ],
   "source": [
    "#normalized\n",
    "maxdisNorm=np.max(NormDist)\n",
    "maxdisNorm"
   ]
  },
  {
   "cell_type": "code",
   "execution_count": 100,
   "metadata": {},
   "outputs": [
    {
     "data": {
      "text/plain": [
       "array([[ 0.        ,  0.05050763,  0.10101525, ...,  0.43448304,\n",
       "         0.46565731,  0.5       ],\n",
       "       [ 0.05050763,  0.        ,  0.05050763, ...,  0.40720551,\n",
       "         0.43448304,  0.46565731],\n",
       "       [ 0.10101525,  0.05050763,  0.        , ...,  0.38465463,\n",
       "         0.40720551,  0.43448304],\n",
       "       ..., \n",
       "       [ 0.43448304,  0.40720551,  0.38465463, ...,  0.        ,\n",
       "         0.05050763,  0.10101525],\n",
       "       [ 0.46565731,  0.43448304,  0.40720551, ...,  0.05050763,\n",
       "         0.        ,  0.05050763],\n",
       "       [ 0.5       ,  0.46565731,  0.43448304, ...,  0.10101525,\n",
       "         0.05050763,  0.        ]])"
      ]
     },
     "execution_count": 100,
     "metadata": {},
     "output_type": "execute_result"
    }
   ],
   "source": [
    "#multiplying by lambda to scale the parameter for geographical location\n",
    "#let lambda is 0.5 \n",
    "DistParameter=np.multiply(0.5,NormDist)\n",
    "DistParameter"
   ]
  },
  {
   "cell_type": "code",
   "execution_count": 108,
   "metadata": {},
   "outputs": [
    {
     "name": "stdout",
     "output_type": "stream",
     "text": [
      "(64L, 64L)\n"
     ]
    },
    {
     "data": {
      "text/plain": [
       "numpy.ndarray"
      ]
     },
     "execution_count": 108,
     "metadata": {},
     "output_type": "execute_result"
    }
   ],
   "source": [
    "#now adding the data part for ths algorithum\n",
    "corr_mat=np.corrcoef(returns_arr,rowvar=True)\n",
    "print(corr_mat.shape)\n",
    "\n",
    "#covariance matrix \n",
    "cov_mat = np.cov(returns_arr)\n",
    "#cov_mat.shape\n",
    " \n",
    "    \n",
    "Similarity=np.subtract(corr_mat,DistParameter)\n",
    "Similarity.shape\n",
    "np.shape(Similarity)\n",
    "type(Similarity)\n",
    " "
   ]
  },
  {
   "cell_type": "code",
   "execution_count": 102,
   "metadata": {},
   "outputs": [],
   "source": [
    "  #jacobi function\n",
    "#Input:     input covariance matrix,   correlation coeffs, masked components\n",
    "#Output:   covariance of rotated data,  correlation coefficients for rotated data,      part of Jacobi rotation; rotation angle\n",
    "#indices of components that are rotated,      highest correlation,      correlation coefficient for pair\n",
    "# Description: Picks the two components with highest correlation coefficient. Decorrelate the two components with PCA\n",
    "# maskno = components which have been already masked by this algo\n",
    "     \n",
    "    \n",
    "from numpy import linalg as LA\n",
    "global R\n",
    "\n",
    "count =0\n",
    " \n",
    "\n",
    "def newJacobi(C,cc,maskno):\n",
    "    if (np.any(C)):\n",
    "        count= +1\n",
    "        if (np.any(cc)):\n",
    "            count+=1\n",
    "            if (maskno):\n",
    "                count+=1\n",
    "                 \n",
    "    \n",
    "     \n",
    "   # maskno=np.array([]) #creating an empty array for masked components\n",
    "     \n",
    "    tri=np.triu(cc) #extract the uppar triangular of covariance matrix\n",
    "    a=0\n",
    "    if (maskno==[]):\n",
    "        a=maskno[0]\n",
    "    else:\n",
    "        a=0\n",
    "    tri[a,:]=-1\n",
    "    tri[:,a]=-1  \n",
    "    ind = tri.argmax(0)\n",
    "    no1=ind[0]\n",
    "    no2=ind[1]\n",
    "    compno = [no1,no2]\n",
    "    maxcc=cc[no1][no2]\n",
    "    cred=np.zeros((2,2))\n",
    "    cred[0][0]=C[no1][no1]\n",
    "    cred[0][1]=C[no1][no2]\n",
    "    cred[1][0]=C[no2][no1]\n",
    "    cred[1][1]=C[no2][no2]\n",
    "    if (cred[0][1]==0): # this means that already we have found diagnoal matrix\n",
    "        Cnew=C\n",
    "        ccnew=cc\n",
    "        R=np.identity(2)\n",
    "        theta=0\n",
    "        idx=np.array([1,2])\n",
    "    else:\n",
    "        c11=cred[0][0]\n",
    "        c12=cred[0][1]\n",
    "        c21=cred[1][0]\n",
    "        c22=cred[1][1]\n",
    "        R=np.zeros((2,2))\n",
    "        theta = 1/2 *(mt.atan(2*c12/(c11-c22)))\n",
    "        cs=mt.cos(theta)\n",
    "        sn=mt.sin(theta)\n",
    "        R[0][0] =  cs\n",
    "        R[0][1] = (-1)*sn\n",
    "        R[1][0] = sn \n",
    "        R[1][1] = cs\n",
    "        M=C\n",
    "        Rtrans=R.T\n",
    "        M[no1][no1]=Rtrans[0][0]*C[no1][no1]\n",
    "        M[no1][no2]=Rtrans[0][1]*C[no1][no2]\n",
    "        M[no2][no1]=Rtrans[1][0]*C[no2][no1]\n",
    "        M[no2][no2]=Rtrans[1][1]*C[no2][no2]\n",
    "        Cnew=M\n",
    "        Cnew[no1][no1]=M[no1][no1]*R[0][0]\n",
    "        Cnew[no1][no2]=M[no1][no2]*R[0][1]\n",
    "        Cnew[no2][no1]=M[no2][no1]*R[1][0]\n",
    "        Cnew[no2][no2]=M[no2][no2]*R[1][1]\n",
    "        if (c11<c22):\n",
    "            idx=np.array([2,1])\n",
    "        else:\n",
    "            idx=np.array([1,2])\n",
    "        \n",
    "        dnew=np.diag(Cnew)\n",
    "        dnewT=dnew.T\n",
    "        temp1=dnew[no1]*dnewT[no1]\n",
    "        temp2=dnew[no2]*dnewT[no1]\n",
    "        temp=temp1+temp2\n",
    "        temp=mt.sqrt(temp)\n",
    "        ccnew=cc\n",
    "        ccnew[no1][:]=Cnew[no1][:]/temp\n",
    "        ccnew[no2][:]=Cnew[no2][:]/temp #ccnew is 64 by 64  \n",
    "        \n",
    "    \n",
    "   \n",
    "    return  Cnew,ccnew,R,theta,compno,maxcc,idx"
   ]
  },
  {
   "cell_type": "code",
   "execution_count": 103,
   "metadata": {},
   "outputs": [],
   "source": [
    " # Build a hierical clustering tree\n",
    "# inputs: covariance matrix, correlation coeffs,   maxlevel  \n",
    "# outputs: positions of the two clusters merged, Element T{k} in the cell array contains a 2-by-2 rot matrix , ID of prinicipal \n",
    "# components,   all_nodes,   node labels,   theta ,    rotation angles that decorrelates inputs,   PC_ratio\n",
    "#ratio C_qq/C_pp , hierarchical cluster tree,  labels of the d-components in the comp,updaated covariance matrix,correlation  \n",
    "\n",
    "\n",
    "import sys\n",
    "global count1 \n",
    "count1=0\n",
    "dim=64 #no od rows od covarince matrix\n",
    "dim2=64 #no. of columns od covaraince matrix\n",
    "\n",
    "def Build_JTree(C,cc,maxlevel):\n",
    "    \n",
    "           \n",
    "     \n",
    "    if (np.any(C)):\n",
    "        count1= +1\n",
    "        if (np.any(cc)):\n",
    "            count1+=1\n",
    "            if (maxlevel):\n",
    "                count1+=1\n",
    "                 \n",
    "                       \n",
    "  \n",
    "            \n",
    "     \n",
    "             \n",
    "    J=maxlevel-1    \n",
    "    Z = np.zeros((J,3))   # columns 1 and 2 contain the indices of the nodes that are merged\n",
    "    T = np.ones((2,2))  # 2-by-2 rotation matrices for levels L=0,1,..,J-1\n",
    "    theta = np.zeros((J,1)) #rotation angles\n",
    "    PCidx=np.zeros((J,2))  # order of principal components, [1 2] or [2 1]\n",
    "        \n",
    "    L=0\n",
    "    maskno=np.array([]) #0L\n",
    "    nodes=np.zeros((1,64)) #1L by 64L\n",
    "    dlabels=np.zeros((1,dim)) #1L by 64L\n",
    "    PC_ratio=np.zeros((dim-1,1)) #63L by 1L\n",
    "    Zpos=np.zeros((J,2)) #19L by 2L\n",
    "    all_d=np.zeros((J,dim)) #19L by 64L\n",
    "    all_nodes=np.zeros((J,dim)) #19L by 64L\n",
    "    \n",
    "    \n",
    "    for lev in range (J-1):\n",
    "        [Cnew,ccnew,R,th,compno,maxcc,idx]=newJacobi(C,cc,maskno)\n",
    "        dist = (1-maxcc)/2\n",
    "        no1=compno[0]\n",
    "        no2=compno[1]\n",
    "        Zpos[:][lev]=dist\n",
    "        Zpos[no1][:]=nodes[0][no1]\n",
    "        Zpos[no2][:]=nodes[0][no2]\n",
    "        T=R\n",
    "        theta[lev]=th\n",
    "        PCidx[lev][:]=idx\n",
    "        C=Cnew\n",
    "        cc=ccnew\n",
    "        component1=idx[0]\n",
    "        component2=idx[1]\n",
    "        pind=[component1,component2]\n",
    "        p1=pind[0]\n",
    "        p2=pind[1]\n",
    "        nodes[0][p1]=np.array([dim+lev])\n",
    "        nodes[0][p2]=np.array([dim+lev])\n",
    "        dlabels[0][p2]=np.array((lev)) #abels of d-components in vector\n",
    "        maskno=[maskno,p2]\n",
    "        PC_ratio[lev]=C[p2][p2]/C[p1][p1]\n",
    "        Zpos[lev][:] =np.array(compno) # their positions in the component vector\n",
    "        transdlabels=dlabels.T\n",
    "        all_d[lev][:]=transdlabels[0]\n",
    "        all_nodes[lev][:]=nodes \n",
    "        \n",
    "    return  Zpos,T,PCidx,maxlevel,all_nodes,Cnew,nodes"
   ]
  },
  {
   "cell_type": "code",
   "execution_count": 104,
   "metadata": {},
   "outputs": [
    {
     "data": {
      "text/plain": [
       "array([[  0.,   0.],\n",
       "       [ 65.,  65.],\n",
       "       [  0.,   1.],\n",
       "       [  0.,   0.]])"
      ]
     },
     "execution_count": 104,
     "metadata": {},
     "output_type": "execute_result"
    }
   ],
   "source": [
    " maxlevel=5\n",
    "[Zpos,T,PCidx,maxlev,all_nodes,Cnew,nodes]=Build_JTree(cov_mat,Similarity,maxlevel)\n",
    "all_nodes\n",
    "\n",
    "np.shape(all_nodes)\n",
    "type(Zpos)\n",
    "np.shape(Zpos)\n",
    "Zpos\n",
    "    "
   ]
  },
  {
   "cell_type": "code",
   "execution_count": null,
   "metadata": {},
   "outputs": [],
   "source": [
    " "
   ]
  },
  {
   "cell_type": "code",
   "execution_count": 105,
   "metadata": {},
   "outputs": [],
   "source": [
    " #Calculate the basis for the Jacobi tree algorithm\n",
    "#inputs : hierarchical cluster information, Element T{k} in the cell array contains a 2-by-2 matrix, id of principal components  \n",
    "# maxlev, node labels\n",
    "#outputs : Output:   basis(m,m),    sums(J,m),  difs(J,m)  \n",
    " \n",
    "global basis\n",
    "def JTree_Basis(Zpos,T,PCidx,maxlev,all_nodes,nodes):\n",
    "    J=np.shape(Zpos[1])\n",
    "    m=np.shape(all_nodes[0])\n",
    "    nodes=np.zeros((1,64))\n",
    "    nodes = all_nodes[0][:]\n",
    "    nodes= np.nonzero(nodes)\n",
    "    del all_nodes\n",
    "    tmpfilts=np.diag(np.ones(m))\n",
    "    ind=np.zeros(J)\n",
    "    sums=np.zeros((maxlev,64))\n",
    "    difs=np.zeros((maxlev,64))\n",
    "    for lev in range(4):\n",
    "        d1=Zpos[lev,0:1]\n",
    "        d1=int(d1)\n",
    "        if d1<64:\n",
    "            s=tmpfilts[d1,:]\n",
    "        else:\n",
    "            d2=d1-2\n",
    "            s=tmpfilts[d2,:]\n",
    "        R=T\n",
    "        y=(R.T)*s[lev]\n",
    "        if d1<64:\n",
    "            tmpfilts[d1,lev]=y[0][1]\n",
    "        else:\n",
    "            d2=d1-2\n",
    "            tmpfilts[d2,lev]=y[0][1]\n",
    "        t1=PCidx[0][0]\n",
    "        t2=PCidx[0][1]\n",
    "        t1=int(t1)\n",
    "        t2=int(t2)\n",
    "        y=y[t1:t2,:]\n",
    "        sums[lev,:]=y[0][0]\n",
    "        difs[lev,:]=y[0][1]\n",
    "        \n",
    "    tmp = [np.diag(np.ones(m)), sums]\n",
    "    p=np.flipud(difs)\n",
    "    tt1=nodes[0][0]\n",
    "           \n",
    "    basis  = [tmp[tt1], p]\n",
    "     \n",
    "    \n",
    "     \n",
    "    \n",
    "    return sums,difs,basis\n"
   ]
  },
  {
   "cell_type": "code",
   "execution_count": 106,
   "metadata": {},
   "outputs": [
    {
     "data": {
      "text/plain": [
       "array([ 0.84304447,  0.84304447,  0.84304447,  0.84304447,  0.84304447,\n",
       "        0.84304447,  0.84304447,  0.84304447,  0.84304447,  0.84304447,\n",
       "        0.84304447,  0.84304447,  0.84304447,  0.84304447,  0.84304447,\n",
       "        0.84304447,  0.84304447,  0.84304447,  0.84304447,  0.84304447,\n",
       "        0.84304447,  0.84304447,  0.84304447,  0.84304447,  0.84304447,\n",
       "        0.84304447,  0.84304447,  0.84304447,  0.84304447,  0.84304447,\n",
       "        0.84304447,  0.84304447,  0.84304447,  0.84304447,  0.84304447,\n",
       "        0.84304447,  0.84304447,  0.84304447,  0.84304447,  0.84304447,\n",
       "        0.84304447,  0.84304447,  0.84304447,  0.84304447,  0.84304447,\n",
       "        0.84304447,  0.84304447,  0.84304447,  0.84304447,  0.84304447,\n",
       "        0.84304447,  0.84304447,  0.84304447,  0.84304447,  0.84304447,\n",
       "        0.84304447,  0.84304447,  0.84304447,  0.84304447,  0.84304447,\n",
       "        0.84304447,  0.84304447,  0.84304447,  0.84304447])"
      ]
     },
     "execution_count": 106,
     "metadata": {},
     "output_type": "execute_result"
    }
   ],
   "source": [
    "maxlev=5\n",
    "sums,difs,basis=JTree_Basis(Zpos,T,PCidx,maxlev,all_nodes,nodes)\n",
    "np.shape(basis)\n",
    "b2=basis[1][maxlev-1][:] #\n",
    "b2"
   ]
  },
  {
   "cell_type": "code",
   "execution_count": 107,
   "metadata": {},
   "outputs": [
    {
     "data": {
      "text/plain": [
       "array([[  1.84000000e-01],\n",
       "       [  1.53000000e-01],\n",
       "       [  5.01000000e-02],\n",
       "       [  6.51000000e-03],\n",
       "       [  5.59000000e-04],\n",
       "       [  5.98000000e-04],\n",
       "       [  6.57000000e-04],\n",
       "       [  3.14000000e-04],\n",
       "       [  2.55000000e-01],\n",
       "       [  2.55000000e-01],\n",
       "       [  1.01000000e-01],\n",
       "       [  1.61000000e-02],\n",
       "       [  4.15000000e-03],\n",
       "       [  1.02000000e-02],\n",
       "       [  1.39000000e-02],\n",
       "       [  8.22000000e-03],\n",
       "       [  1.53000000e-01],\n",
       "       [  1.84000000e-01],\n",
       "       [  8.76000000e-02],\n",
       "       [  1.81000000e-02],\n",
       "       [  1.67000000e-02],\n",
       "       [  6.09000000e-02],\n",
       "       [  1.03000000e-01],\n",
       "       [  7.51000000e-02],\n",
       "       [  3.97000000e-02],\n",
       "       [  5.76000000e-02],\n",
       "       [  3.30000000e-02],\n",
       "       [  9.80000000e-03],\n",
       "       [  2.74000000e-02],\n",
       "       [  1.30000000e-01],\n",
       "       [  2.71000000e-01],\n",
       "       [  2.43000000e-01],\n",
       "       [  4.46000000e-03],\n",
       "       [  7.79000000e-03],\n",
       "       [  5.41000000e-03],\n",
       "       [  2.82000000e-03],\n",
       "       [  1.98000000e-02],\n",
       "       [  1.18000000e-01],\n",
       "       [  2.95000000e-01],\n",
       "       [  3.10000000e-01],\n",
       "       [  2.17000000e-04],\n",
       "       [  4.57000000e-04],\n",
       "       [  3.96000000e-04],\n",
       "       [  9.68000000e-04],\n",
       "       [  1.55000000e-02],\n",
       "       [  1.07000000e-01],\n",
       "       [  2.81000000e-01],\n",
       "       [  2.87000000e-01],\n",
       "       [  4.57000000e-06],\n",
       "       [  1.17000000e-05],\n",
       "       [  2.39000000e-05],\n",
       "       [  7.12000000e-04],\n",
       "       [  1.48000000e-02],\n",
       "       [  1.13000000e-01],\n",
       "       [  3.14000000e-01],\n",
       "       [  3.20000000e-01],\n",
       "       [  4.17000000e-08],\n",
       "       [  1.53000000e-07],\n",
       "       [  4.79000000e-06],\n",
       "       [  3.00000000e-04],\n",
       "       [  7.03000000e-03],\n",
       "       [  5.98000000e-02],\n",
       "       [  1.85000000e-01],\n",
       "       [  2.07000000e-01]])"
      ]
     },
     "execution_count": 107,
     "metadata": {},
     "output_type": "execute_result"
    }
   ],
   "source": [
    "import pandas as pd\n",
    "import numpy as np\n",
    "signal=DataFile.iloc[:,5:6]\n",
    "sparsify= signal.to_sparse()\n",
    "sparsify\n",
    "signal.as_matrix()"
   ]
  },
  {
   "cell_type": "code",
   "execution_count": 88,
   "metadata": {},
   "outputs": [
    {
     "data": {
      "text/plain": [
       "(64L,)"
      ]
     },
     "execution_count": 88,
     "metadata": {},
     "output_type": "execute_result"
    }
   ],
   "source": [
    "MeanOfData=returns_arr.mean(1)\n",
    "MeanData=MeanOfData.sum(axis=0)/64\n",
    "MeanData\n",
    "VarData=np.var(returns_arr,1)\n",
    "VarData=VarData.sum(axis=0)/64\n",
    "VarData\n",
    "#phie matrix that is the measurement matrix\n",
    "phie=0.004 * np.random.randn(64) + 0.003\n",
    "np.shape(phie) "
   ]
  },
  {
   "cell_type": "code",
   "execution_count": 89,
   "metadata": {},
   "outputs": [
    {
     "name": "stdout",
     "output_type": "stream",
     "text": [
      "             0.4\n",
      "0   2.653897e-02\n",
      "1   2.206773e-02\n",
      "2   7.226099e-03\n",
      "3   9.389602e-04\n",
      "4   8.062653e-05\n",
      "5   8.625164e-05\n",
      "6   9.476142e-05\n",
      "7   4.528932e-05\n",
      "8   3.677955e-02\n",
      "9   3.677955e-02\n",
      "10  1.456758e-02\n",
      "11  2.322160e-03\n",
      "12  5.985691e-04\n",
      "13  1.471182e-03\n",
      "14  2.004846e-03\n",
      "15  1.185599e-03\n",
      "16  2.206773e-02\n",
      "17  2.653897e-02\n",
      "18  1.263486e-02\n",
      "19  2.610627e-03\n",
      "20  2.408700e-03\n",
      "21  8.783821e-03\n",
      "22  1.485605e-02\n",
      "23  1.083194e-02\n",
      "24  5.726070e-03\n",
      "25  8.307850e-03\n",
      "26  4.759706e-03\n",
      "27  1.413488e-03\n",
      "28  3.951998e-03\n",
      "29  1.875036e-02\n",
      "..           ...\n",
      "34  7.803033e-04\n",
      "35  4.067385e-04\n",
      "36  2.855824e-03\n",
      "37  1.701955e-02\n",
      "38  4.254889e-02\n",
      "39  4.471239e-02\n",
      "40  3.129867e-05\n",
      "41  6.591472e-05\n",
      "42  5.711647e-05\n",
      "43  1.396180e-04\n",
      "44  2.235619e-03\n",
      "45  1.543299e-02\n",
      "46  4.052962e-02\n",
      "47  4.139502e-02\n",
      "48  6.591472e-07\n",
      "49  1.687532e-06\n",
      "50  3.447181e-06\n",
      "51  1.026943e-04\n",
      "52  2.134656e-03\n",
      "53  1.629839e-02\n",
      "54  4.528932e-02\n",
      "55  4.615472e-02\n",
      "56  6.014537e-09\n",
      "57  2.206773e-08\n",
      "58  6.908785e-07\n",
      "59  4.327005e-05\n",
      "60  1.013962e-03\n",
      "61  8.625164e-03\n",
      "62  2.668320e-02\n",
      "63  2.985634e-02\n",
      "\n",
      "[64 rows x 1 columns]\n",
      "(64, 1)\n"
     ]
    }
   ],
   "source": [
    "newx=phie.dot(b2.T)\n",
    "y=np.multiply(newx,sparsify)\n",
    "print(y)\n",
    "print(np.shape(y)) "
   ]
  },
  {
   "cell_type": "code",
   "execution_count": 90,
   "metadata": {},
   "outputs": [
    {
     "data": {
      "text/plain": [
       "<bound method SparseDataFrame.to_dense of              0.4\n",
       "0   2.653897e-02\n",
       "1   2.206773e-02\n",
       "2   7.226099e-03\n",
       "3   9.389602e-04\n",
       "4   8.062653e-05\n",
       "5   8.625164e-05\n",
       "6   9.476142e-05\n",
       "7   4.528932e-05\n",
       "8   3.677955e-02\n",
       "9   3.677955e-02\n",
       "10  1.456758e-02\n",
       "11  2.322160e-03\n",
       "12  5.985691e-04\n",
       "13  1.471182e-03\n",
       "14  2.004846e-03\n",
       "15  1.185599e-03\n",
       "16  2.206773e-02\n",
       "17  2.653897e-02\n",
       "18  1.263486e-02\n",
       "19  2.610627e-03\n",
       "20  2.408700e-03\n",
       "21  8.783821e-03\n",
       "22  1.485605e-02\n",
       "23  1.083194e-02\n",
       "24  5.726070e-03\n",
       "25  8.307850e-03\n",
       "26  4.759706e-03\n",
       "27  1.413488e-03\n",
       "28  3.951998e-03\n",
       "29  1.875036e-02\n",
       "..           ...\n",
       "34  7.803033e-04\n",
       "35  4.067385e-04\n",
       "36  2.855824e-03\n",
       "37  1.701955e-02\n",
       "38  4.254889e-02\n",
       "39  4.471239e-02\n",
       "40  3.129867e-05\n",
       "41  6.591472e-05\n",
       "42  5.711647e-05\n",
       "43  1.396180e-04\n",
       "44  2.235619e-03\n",
       "45  1.543299e-02\n",
       "46  4.052962e-02\n",
       "47  4.139502e-02\n",
       "48  6.591472e-07\n",
       "49  1.687532e-06\n",
       "50  3.447181e-06\n",
       "51  1.026943e-04\n",
       "52  2.134656e-03\n",
       "53  1.629839e-02\n",
       "54  4.528932e-02\n",
       "55  4.615472e-02\n",
       "56  6.014537e-09\n",
       "57  2.206773e-08\n",
       "58  6.908785e-07\n",
       "59  4.327005e-05\n",
       "60  1.013962e-03\n",
       "61  8.625164e-03\n",
       "62  2.668320e-02\n",
       "63  2.985634e-02\n",
       "\n",
       "[64 rows x 1 columns]>"
      ]
     },
     "execution_count": 90,
     "metadata": {},
     "output_type": "execute_result"
    }
   ],
   "source": [
    "y1=y.to_dense\n",
    "y1"
   ]
  },
  {
   "cell_type": "code",
   "execution_count": 91,
   "metadata": {},
   "outputs": [
    {
     "data": {
      "text/plain": [
       "0.4   -0.070156\n",
       "dtype: float64"
      ]
     },
     "execution_count": 91,
     "metadata": {},
     "output_type": "execute_result"
    }
   ],
   "source": [
    " np.mean(y-sparsify)#/np.mean(sparsify) "
   ]
  },
  {
   "cell_type": "code",
   "execution_count": 92,
   "metadata": {},
   "outputs": [
    {
     "data": {
      "text/plain": [
       "0.85576648704334146"
      ]
     },
     "execution_count": 92,
     "metadata": {},
     "output_type": "execute_result"
    }
   ],
   "source": [
    "LA.norm(y-sparsify)/LA.norm(sparsify)"
   ]
  },
  {
   "cell_type": "code",
   "execution_count": null,
   "metadata": {},
   "outputs": [],
   "source": []
  },
  {
   "cell_type": "code",
   "execution_count": null,
   "metadata": {},
   "outputs": [],
   "source": []
  },
  {
   "cell_type": "code",
   "execution_count": null,
   "metadata": {},
   "outputs": [],
   "source": []
  }
 ],
 "metadata": {
  "kernelspec": {
   "display_name": "Python 2",
   "language": "python",
   "name": "python2"
  },
  "language_info": {
   "codemirror_mode": {
    "name": "ipython",
    "version": 2
   },
   "file_extension": ".py",
   "mimetype": "text/x-python",
   "name": "python",
   "nbconvert_exporter": "python",
   "pygments_lexer": "ipython2",
   "version": "2.7.14"
  }
 },
 "nbformat": 4,
 "nbformat_minor": 2
}
