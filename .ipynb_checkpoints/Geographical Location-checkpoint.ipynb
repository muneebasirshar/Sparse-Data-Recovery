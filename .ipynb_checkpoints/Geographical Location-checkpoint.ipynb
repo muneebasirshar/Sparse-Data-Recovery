{
 "cells": [
  {
   "cell_type": "code",
   "execution_count": 1,
   "metadata": {},
   "outputs": [
    {
     "name": "stdout",
     "output_type": "stream",
     "text": [
      "1.13.3\n",
      "0.20.3\n",
      "2.1.0\n"
     ]
    }
   ],
   "source": [
    "#importing necssary files\n",
    "from __future__ import division, print_function, unicode_literals\n",
    "import numpy as np\n",
    "import pandas as pd \n",
    "get_ipython().magic(u'matplotlib inline')\n",
    "import matplotlib\n",
    "import math as mt\n",
    "import matplotlib.pyplot as plt\n",
    "from matplotlib.mlab import PCA\n",
    "\n",
    "#printing versions of current packages in use \n",
    "print(np.__version__)\n",
    "print(pd.__version__)\n",
    "print(matplotlib.__version__)\n",
    "\n",
    "#importing the csv file containing data of sensors, sorting them and selecting the required columns\n",
    "DataFile = pd.read_csv('C:/Users/muneeba/Desktop/THESIS/DataDistribution/DataDistributionPCA.csv')\n",
    "location=DataFile.iloc[:,1:3]\n",
    "DataSensors=DataFile.iloc[:,4:68]\n",
    "\n",
    "\n",
    "\n",
    "#converting the sliced data into matrices \n",
    "returns = DataSensors[[key for key in dict(DataSensors.dtypes) if dict(DataSensors.dtypes)[key] in ['float64', 'int64']]] \n",
    "returns = returns[:65]\n",
    "returns_arr = returns.as_matrix()[:65]\n",
    "locations = location[[key for key in dict(location.dtypes) if dict(location.dtypes)[key] in ['float64', 'int64']]] \n",
    "locations = locations[:65] \n",
    "locations_arr = locations.as_matrix()[:65]"
   ]
  },
  {
   "cell_type": "code",
   "execution_count": 2,
   "metadata": {},
   "outputs": [
    {
     "data": {
      "text/plain": [
       "array([[ 1,  1],\n",
       "       [ 1,  3],\n",
       "       [ 1,  5],\n",
       "       [ 1,  7],\n",
       "       [ 1,  9],\n",
       "       [ 1, 11],\n",
       "       [ 1, 13],\n",
       "       [ 1, 15],\n",
       "       [ 3,  1],\n",
       "       [ 3,  3],\n",
       "       [ 3,  5],\n",
       "       [ 3,  7],\n",
       "       [ 3,  9],\n",
       "       [ 3, 11],\n",
       "       [ 3, 13],\n",
       "       [ 3, 15],\n",
       "       [ 5,  1],\n",
       "       [ 5,  3],\n",
       "       [ 5,  5],\n",
       "       [ 5,  7],\n",
       "       [ 5,  9],\n",
       "       [ 5, 11],\n",
       "       [ 5, 13],\n",
       "       [ 5, 15],\n",
       "       [ 7,  1],\n",
       "       [ 7,  3],\n",
       "       [ 7,  5],\n",
       "       [ 7,  7],\n",
       "       [ 7,  9],\n",
       "       [ 7, 11],\n",
       "       [ 7, 13],\n",
       "       [ 7, 15],\n",
       "       [ 9,  1],\n",
       "       [ 9,  3],\n",
       "       [ 9,  5],\n",
       "       [ 9,  7],\n",
       "       [ 9,  9],\n",
       "       [ 9, 11],\n",
       "       [ 9, 13],\n",
       "       [ 9, 15],\n",
       "       [11,  1],\n",
       "       [11,  3],\n",
       "       [11,  5],\n",
       "       [11,  7],\n",
       "       [11,  9],\n",
       "       [11, 11],\n",
       "       [11, 13],\n",
       "       [11, 15],\n",
       "       [13,  1],\n",
       "       [13,  3],\n",
       "       [13,  5],\n",
       "       [13,  7],\n",
       "       [13,  9],\n",
       "       [13, 11],\n",
       "       [13, 13],\n",
       "       [13, 15],\n",
       "       [15,  1],\n",
       "       [15,  3],\n",
       "       [15,  5],\n",
       "       [15,  7],\n",
       "       [15,  9],\n",
       "       [15, 11],\n",
       "       [15, 13],\n",
       "       [15, 15]], dtype=int64)"
      ]
     },
     "execution_count": 2,
     "metadata": {},
     "output_type": "execute_result"
    }
   ],
   "source": [
    "locations_arr"
   ]
  },
  {
   "cell_type": "code",
   "execution_count": 3,
   "metadata": {},
   "outputs": [
    {
     "data": {
      "text/plain": [
       "(64, 64)"
      ]
     },
     "execution_count": 3,
     "metadata": {},
     "output_type": "execute_result"
    }
   ],
   "source": [
    "from scipy.spatial import distance\n",
    "distsensors=distance.cdist(locations_arr, locations_arr, 'euclidean')\n",
    "np.shape(distsensors)"
   ]
  },
  {
   "cell_type": "code",
   "execution_count": 4,
   "metadata": {},
   "outputs": [
    {
     "data": {
      "text/plain": [
       "array([[  0.        ,   2.        ,   4.        , ...,  17.20465053,\n",
       "         18.43908891,  19.79898987],\n",
       "       [  2.        ,   0.        ,   2.        , ...,  16.1245155 ,\n",
       "         17.20465053,  18.43908891],\n",
       "       [  4.        ,   2.        ,   0.        , ...,  15.23154621,\n",
       "         16.1245155 ,  17.20465053],\n",
       "       ..., \n",
       "       [ 17.20465053,  16.1245155 ,  15.23154621, ...,   0.        ,\n",
       "          2.        ,   4.        ],\n",
       "       [ 18.43908891,  17.20465053,  16.1245155 , ...,   2.        ,\n",
       "          0.        ,   2.        ],\n",
       "       [ 19.79898987,  18.43908891,  17.20465053, ...,   4.        ,\n",
       "          2.        ,   0.        ]])"
      ]
     },
     "execution_count": 4,
     "metadata": {},
     "output_type": "execute_result"
    }
   ],
   "source": [
    "distsensors"
   ]
  },
  {
   "cell_type": "code",
   "execution_count": 5,
   "metadata": {},
   "outputs": [
    {
     "data": {
      "text/plain": [
       "19.798989873223331"
      ]
     },
     "execution_count": 5,
     "metadata": {},
     "output_type": "execute_result"
    }
   ],
   "source": [
    "maxdis=np.max(distsensors)\n",
    "maxdis   # maximum distance will be between last and first sensor"
   ]
  },
  {
   "cell_type": "code",
   "execution_count": 6,
   "metadata": {},
   "outputs": [
    {
     "data": {
      "text/plain": [
       "array([[ 0.        ,  0.10101525,  0.20203051, ...,  0.86896608,\n",
       "         0.93131463,  1.        ],\n",
       "       [ 0.10101525,  0.        ,  0.10101525, ...,  0.81441102,\n",
       "         0.86896608,  0.93131463],\n",
       "       [ 0.20203051,  0.10101525,  0.        , ...,  0.76930926,\n",
       "         0.81441102,  0.86896608],\n",
       "       ..., \n",
       "       [ 0.86896608,  0.81441102,  0.76930926, ...,  0.        ,\n",
       "         0.10101525,  0.20203051],\n",
       "       [ 0.93131463,  0.86896608,  0.81441102, ...,  0.10101525,\n",
       "         0.        ,  0.10101525],\n",
       "       [ 1.        ,  0.93131463,  0.86896608, ...,  0.20203051,\n",
       "         0.10101525,  0.        ]])"
      ]
     },
     "execution_count": 6,
     "metadata": {},
     "output_type": "execute_result"
    }
   ],
   "source": [
    "#dviding by the maximum value throughout\n",
    "NormDist=np.divide(distsensors,maxdis)\n",
    "NormDist"
   ]
  },
  {
   "cell_type": "code",
   "execution_count": 7,
   "metadata": {},
   "outputs": [
    {
     "data": {
      "text/plain": [
       "1.0"
      ]
     },
     "execution_count": 7,
     "metadata": {},
     "output_type": "execute_result"
    }
   ],
   "source": [
    "#normalized\n",
    "maxdisNorm=np.max(NormDist)\n",
    "maxdisNorm"
   ]
  },
  {
   "cell_type": "code",
   "execution_count": 8,
   "metadata": {},
   "outputs": [
    {
     "data": {
      "text/plain": [
       "array([[ 0.        ,  0.05050763,  0.10101525, ...,  0.43448304,\n",
       "         0.46565731,  0.5       ],\n",
       "       [ 0.05050763,  0.        ,  0.05050763, ...,  0.40720551,\n",
       "         0.43448304,  0.46565731],\n",
       "       [ 0.10101525,  0.05050763,  0.        , ...,  0.38465463,\n",
       "         0.40720551,  0.43448304],\n",
       "       ..., \n",
       "       [ 0.43448304,  0.40720551,  0.38465463, ...,  0.        ,\n",
       "         0.05050763,  0.10101525],\n",
       "       [ 0.46565731,  0.43448304,  0.40720551, ...,  0.05050763,\n",
       "         0.        ,  0.05050763],\n",
       "       [ 0.5       ,  0.46565731,  0.43448304, ...,  0.10101525,\n",
       "         0.05050763,  0.        ]])"
      ]
     },
     "execution_count": 8,
     "metadata": {},
     "output_type": "execute_result"
    }
   ],
   "source": [
    "#multiplying by lambda to scale the parameter for geographical location\n",
    "#let lambda is 0.5 \n",
    "DistParameter=np.multiply(0.5,NormDist)\n",
    "DistParameter"
   ]
  },
  {
   "cell_type": "code",
   "execution_count": 9,
   "metadata": {},
   "outputs": [
    {
     "name": "stdout",
     "output_type": "stream",
     "text": [
      "(64, 64)\n"
     ]
    },
    {
     "data": {
      "text/plain": [
       "numpy.ndarray"
      ]
     },
     "execution_count": 9,
     "metadata": {},
     "output_type": "execute_result"
    }
   ],
   "source": [
    "#now adding the data part for ths algorithum\n",
    "corr_mat=np.corrcoef(returns_arr,rowvar=True)\n",
    "print(corr_mat.shape)\n",
    "\n",
    "#covariance matrix \n",
    "cov_mat = np.cov(returns_arr)\n",
    "#cov_mat.shape\n",
    " \n",
    "    \n",
    "Similarity=np.subtract(corr_mat,DistParameter)\n",
    "Similarity.shape\n",
    "np.shape(Similarity)\n",
    "type(Similarity)\n",
    " "
   ]
  },
  {
   "cell_type": "code",
   "execution_count": 10,
   "metadata": {
    "collapsed": true
   },
   "outputs": [],
   "source": [
    "  #jacobi function\n",
    "#Input:     input covariance matrix,   correlation coeffs, masked components\n",
    "#Output:   covariance of rotated data,  correlation coefficients for rotated data,      part of Jacobi rotation; rotation angle\n",
    "#indices of components that are rotated,      highest correlation,      correlation coefficient for pair\n",
    "# Description: Picks the two components with highest correlation coefficient. Decorrelate the two components with PCA\n",
    "# maskno = components which have been already masked by this algo\n",
    "     \n",
    "    \n",
    "from numpy import linalg as LA\n",
    "global R\n",
    "\n",
    "count =0\n",
    " \n",
    "\n",
    "def newJacobi(C,cc,maskno):\n",
    "    if (np.any(C)):\n",
    "        count= +1\n",
    "        if (np.any(cc)):\n",
    "            count+=1\n",
    "            if (maskno):\n",
    "                count+=1\n",
    "                 \n",
    "    \n",
    "     \n",
    "   # maskno=np.array([]) #creating an empty array for masked components\n",
    "     \n",
    "    tri=np.triu(cc) #extract the uppar triangular of covariance matrix\n",
    "    a=0\n",
    "    if (maskno==[]):\n",
    "        a=maskno[0]\n",
    "    else:\n",
    "        a=0\n",
    "    tri[a,:]=-1\n",
    "    tri[:,a]=-1  \n",
    "    ind = tri.argmax(0)\n",
    "    no1=ind[0]\n",
    "    no2=ind[1]\n",
    "    compno = [no1,no2]\n",
    "    maxcc=cc[no1][no2]\n",
    "    cred=np.zeros((2,2))\n",
    "    cred[0][0]=C[no1][no1]\n",
    "    cred[0][1]=C[no1][no2]\n",
    "    cred[1][0]=C[no2][no1]\n",
    "    cred[1][1]=C[no2][no2]\n",
    "    if (cred[0][1]==0): # this means that already we have found diagnoal matrix\n",
    "        Cnew=C\n",
    "        ccnew=cc\n",
    "        R=np.identity(2)\n",
    "        theta=0\n",
    "        idx=np.array([1,2])\n",
    "    else:\n",
    "        c11=cred[0][0]\n",
    "        c12=cred[0][1]\n",
    "        c21=cred[1][0]\n",
    "        c22=cred[1][1]\n",
    "        R=np.zeros((2,2))\n",
    "        theta = 1/2 *(mt.atan(2*c12/(c11-c22)))\n",
    "        cs=mt.cos(theta)\n",
    "        sn=mt.sin(theta)\n",
    "        R[0][0] =  cs\n",
    "        R[0][1] = (-1)*sn\n",
    "        R[1][0] = sn \n",
    "        R[1][1] = cs\n",
    "        M=C\n",
    "        Rtrans=R.T\n",
    "        M[no1][no1]=Rtrans[0][0]*C[no1][no1]\n",
    "        M[no1][no2]=Rtrans[0][1]*C[no1][no2]\n",
    "        M[no2][no1]=Rtrans[1][0]*C[no2][no1]\n",
    "        M[no2][no2]=Rtrans[1][1]*C[no2][no2]\n",
    "        Cnew=M\n",
    "        Cnew[no1][no1]=M[no1][no1]*R[0][0]\n",
    "        Cnew[no1][no2]=M[no1][no2]*R[0][1]\n",
    "        Cnew[no2][no1]=M[no2][no1]*R[1][0]\n",
    "        Cnew[no2][no2]=M[no2][no2]*R[1][1]\n",
    "        if (c11<c22):\n",
    "            idx=np.array([2,1])\n",
    "        else:\n",
    "            idx=np.array([1,2])\n",
    "        \n",
    "        dnew=np.diag(Cnew)\n",
    "        dnewT=dnew.T\n",
    "        temp1=dnew[no1]*dnewT[no1]\n",
    "        temp2=dnew[no2]*dnewT[no1]\n",
    "        temp=temp1+temp2\n",
    "        temp=mt.sqrt(temp)\n",
    "        ccnew=cc\n",
    "        ccnew[no1][:]=Cnew[no1][:]/temp\n",
    "        ccnew[no2][:]=Cnew[no2][:]/temp #ccnew is 64 by 64  \n",
    "        \n",
    "    \n",
    "   \n",
    "    return  Cnew,ccnew,R,theta,compno,maxcc,idx"
   ]
  },
  {
   "cell_type": "code",
   "execution_count": 11,
   "metadata": {
    "collapsed": true
   },
   "outputs": [],
   "source": [
    " # Build a hierical clustering tree\n",
    "# inputs: covariance matrix, correlation coeffs,   maxlevel  \n",
    "# outputs: positions of the two clusters merged, Element T{k} in the cell array contains a 2-by-2 rot matrix , ID of prinicipal \n",
    "# components,   all_nodes,   node labels,   theta ,    rotation angles that decorrelates inputs,   PC_ratio\n",
    "#ratio C_qq/C_pp , hierarchical cluster tree,  labels of the d-components in the comp,updaated covariance matrix,correlation  \n",
    "\n",
    "\n",
    "import sys\n",
    "global count1 \n",
    "count1=0\n",
    "dim=64 #no od rows od covarince matrix\n",
    "dim2=64 #no. of columns od covaraince matrix\n",
    "\n",
    "def Build_JTree(C,cc,maxlevel):\n",
    "    \n",
    "           \n",
    "     \n",
    "    if (np.any(C)):\n",
    "        count1= +1\n",
    "        if (np.any(cc)):\n",
    "            count1+=1\n",
    "            if (maxlevel):\n",
    "                count1+=1\n",
    "                 \n",
    "                       \n",
    "  \n",
    "            \n",
    "     \n",
    "             \n",
    "    J=maxlevel-1    \n",
    "    Z = np.zeros((J,3))   # columns 1 and 2 contain the indices of the nodes that are merged\n",
    "    T = np.ones((2,2))  # 2-by-2 rotation matrices for levels L=0,1,..,J-1\n",
    "    theta = np.zeros((J,1)) #rotation angles\n",
    "    PCidx=np.zeros((J,2))  # order of principal components, [1 2] or [2 1]\n",
    "        \n",
    "    L=0\n",
    "    maskno=np.array([]) #0L\n",
    "    nodes=np.zeros((1,64)) #1L by 64L\n",
    "    dlabels=np.zeros((1,dim)) #1L by 64L\n",
    "    PC_ratio=np.zeros((dim-1,1)) #63L by 1L\n",
    "    Zpos=np.zeros((J,2)) #19L by 2L\n",
    "    all_d=np.zeros((J,dim)) #19L by 64L\n",
    "    all_nodes=np.zeros((J,dim)) #19L by 64L\n",
    "    \n",
    "    \n",
    "    for lev in range (J-1):\n",
    "        [Cnew,ccnew,R,th,compno,maxcc,idx]=newJacobi(C,cc,maskno)\n",
    "        dist = (1-maxcc)/2\n",
    "        no1=compno[0]\n",
    "        no2=compno[1]\n",
    "        Zpos[:][lev]=dist\n",
    "        Zpos[no1][:]=nodes[0][no1]\n",
    "        Zpos[no2][:]=nodes[0][no2]\n",
    "        T=R\n",
    "        theta[lev]=th\n",
    "        PCidx[lev][:]=idx\n",
    "        C=Cnew\n",
    "        cc=ccnew\n",
    "        component1=idx[0]\n",
    "        component2=idx[1]\n",
    "        pind=[component1,component2]\n",
    "        p1=pind[0]\n",
    "        p2=pind[1]\n",
    "        nodes[0][p1]=np.array([dim+lev])\n",
    "        nodes[0][p2]=np.array([dim+lev])\n",
    "        dlabels[0][p2]=np.array((lev)) #abels of d-components in vector\n",
    "        maskno=[maskno,p2]\n",
    "        PC_ratio[lev]=C[p2][p2]/C[p1][p1]\n",
    "        Zpos[lev][:] =np.array(compno) # their positions in the component vector\n",
    "        transdlabels=dlabels.T\n",
    "        all_d[lev][:]=transdlabels[0]\n",
    "        all_nodes[lev][:]=nodes \n",
    "        \n",
    "    return  Zpos,T,PCidx,maxlevel,all_nodes,Cnew,nodes"
   ]
  },
  {
   "cell_type": "code",
   "execution_count": 12,
   "metadata": {},
   "outputs": [
    {
     "data": {
      "text/plain": [
       "array([[  0.,   0.],\n",
       "       [ 65.,  65.],\n",
       "       [  0.,   1.],\n",
       "       [  0.,   0.]])"
      ]
     },
     "execution_count": 12,
     "metadata": {},
     "output_type": "execute_result"
    }
   ],
   "source": [
    " maxlevel=5\n",
    "[Zpos,T,PCidx,maxlev,all_nodes,Cnew,nodes]=Build_JTree(cov_mat,Similarity,maxlevel)\n",
    "all_nodes\n",
    "\n",
    "np.shape(all_nodes)\n",
    "type(Zpos)\n",
    "np.shape(Zpos)\n",
    "Zpos\n",
    "    "
   ]
  },
  {
   "cell_type": "code",
   "execution_count": null,
   "metadata": {
    "collapsed": true
   },
   "outputs": [],
   "source": [
    " "
   ]
  },
  {
   "cell_type": "code",
   "execution_count": 13,
   "metadata": {
    "collapsed": true
   },
   "outputs": [],
   "source": [
    " #Calculate the basis for the Jacobi tree algorithm\n",
    "#inputs : hierarchical cluster information, Element T{k} in the cell array contains a 2-by-2 matrix, id of principal components  \n",
    "# maxlev, node labels\n",
    "#outputs : Output:   basis(m,m),    sums(J,m),  difs(J,m)  \n",
    " \n",
    "global basis\n",
    "def JTree_Basis(Zpos,T,PCidx,maxlev,all_nodes,nodes):\n",
    "    J=np.shape(Zpos[1])\n",
    "    m=np.shape(all_nodes[0])\n",
    "    nodes=np.zeros((1,64))\n",
    "    nodes = all_nodes[0][:]\n",
    "    nodes= np.nonzero(nodes)\n",
    "    del all_nodes\n",
    "    tmpfilts=np.diag(np.ones(m))\n",
    "    ind=np.zeros(J)\n",
    "    sums=np.zeros((maxlev,64))\n",
    "    difs=np.zeros((maxlev,64))\n",
    "    for lev in range(4):\n",
    "        d1=Zpos[lev,0:1]\n",
    "        d1=int(d1)\n",
    "        if d1<64:\n",
    "            s=tmpfilts[d1,:]\n",
    "        else:\n",
    "            d2=d1-2\n",
    "            s=tmpfilts[d2,:]\n",
    "        R=T\n",
    "        y=(R.T)*s[lev]\n",
    "        if d1<64:\n",
    "            tmpfilts[d1,lev]=y[0][1]\n",
    "        else:\n",
    "            d2=d1-2\n",
    "            tmpfilts[d2,lev]=y[0][1]\n",
    "        t1=PCidx[0][0]\n",
    "        t2=PCidx[0][1]\n",
    "        t1=int(t1)\n",
    "        t2=int(t2)\n",
    "        y=y[t1:t2,:]\n",
    "        sums[lev,:]=y[0][0]\n",
    "        difs[lev,:]=y[0][1]\n",
    "        \n",
    "    tmp = [np.diag(np.ones(m)), sums]\n",
    "    p=np.flipud(difs)\n",
    "    tt1=nodes[0][0]\n",
    "           \n",
    "    basis  = [tmp[tt1], p]\n",
    "     \n",
    "    \n",
    "     \n",
    "    \n",
    "    return sums,difs,basis\n"
   ]
  },
  {
   "cell_type": "code",
   "execution_count": 14,
   "metadata": {},
   "outputs": [
    {
     "data": {
      "text/plain": [
       "array([ 0.84304447,  0.84304447,  0.84304447,  0.84304447,  0.84304447,\n",
       "        0.84304447,  0.84304447,  0.84304447,  0.84304447,  0.84304447,\n",
       "        0.84304447,  0.84304447,  0.84304447,  0.84304447,  0.84304447,\n",
       "        0.84304447,  0.84304447,  0.84304447,  0.84304447,  0.84304447,\n",
       "        0.84304447,  0.84304447,  0.84304447,  0.84304447,  0.84304447,\n",
       "        0.84304447,  0.84304447,  0.84304447,  0.84304447,  0.84304447,\n",
       "        0.84304447,  0.84304447,  0.84304447,  0.84304447,  0.84304447,\n",
       "        0.84304447,  0.84304447,  0.84304447,  0.84304447,  0.84304447,\n",
       "        0.84304447,  0.84304447,  0.84304447,  0.84304447,  0.84304447,\n",
       "        0.84304447,  0.84304447,  0.84304447,  0.84304447,  0.84304447,\n",
       "        0.84304447,  0.84304447,  0.84304447,  0.84304447,  0.84304447,\n",
       "        0.84304447,  0.84304447,  0.84304447,  0.84304447,  0.84304447,\n",
       "        0.84304447,  0.84304447,  0.84304447,  0.84304447])"
      ]
     },
     "execution_count": 14,
     "metadata": {},
     "output_type": "execute_result"
    }
   ],
   "source": [
    "maxlev=5\n",
    "sums,difs,basis=JTree_Basis(Zpos,T,PCidx,maxlev,all_nodes,nodes)\n",
    "np.shape(basis)\n",
    "b2=basis[1][maxlev-1][:] #\n",
    "b2"
   ]
  },
  {
   "cell_type": "code",
   "execution_count": 16,
   "metadata": {},
   "outputs": [],
   "source": [
    " def cosamp(phi, u, s, epsilon=1e-10, max_iter=1000):\n",
    "    \"\"\"\n",
    "    Return an `s`-sparse approximation of the target signal\n",
    "    Input:\n",
    "        - phi, sampling matrix\n",
    "        - u, noisy sample vector\n",
    "        - s, sparsity\n",
    "    \"\"\"\n",
    "    a = np.zeros(phi.shape[1])\n",
    "    v = u\n",
    "    it = 0 # count\n",
    "    halt = False\n",
    "    while not halt:\n",
    "        it += 1\n",
    "        print(\"Iteration {}\\r\".format(it), end=\"\")\n",
    "        \n",
    "        y = np.dot(np.transpose(phi), v)\n",
    "        omega = np.argsort(y)[-(2*s):] # large components\n",
    "        omega = np.union1d(omega, a.nonzero()[0]) # use set instead?\n",
    "        phiT = phi[:, omega]\n",
    "        b = np.zeros(phi.shape[1])\n",
    "        # Solve Least Square\n",
    "        b[omega], _, _, _ = np.linalg.lstsq(phiT, u)\n",
    "        \n",
    "        # Get new estimate\n",
    "        b[np.argsort(b)[:-s]] = 0\n",
    "        a = b\n",
    "        \n",
    "        # Halt criterion\n",
    "        v_old = v\n",
    "        v = u - np.dot(phi, a)\n",
    "\n",
    "        halt = (np.linalg.norm(v - v_old) < epsilon) or \\\n",
    "            np.linalg.norm(v) < epsilon or \\\n",
    "            it > max_iter\n",
    "        \n",
    "    return a"
   ]
  },
  {
   "cell_type": "code",
   "execution_count": 17,
   "metadata": {},
   "outputs": [
    {
     "data": {
      "text/plain": [
       "(64,)"
      ]
     },
     "execution_count": 17,
     "metadata": {},
     "output_type": "execute_result"
    }
   ],
   "source": [
    " n_rows = 64\n",
    "n_cols = 64\n",
    "sparsity = 64\n",
    "\n",
    "\n",
    "A = np.random.normal(0, 1, [n_rows, n_cols])\n",
    "# Generate sparse x and noise\n",
    "x = np.zeros(n_cols)\n",
    "x[np.random.randint(1, n_cols, [sparsity])] = np.random.chisquare(15, [sparsity])\n",
    "noise = np.random.normal(0, 1, [n_cols])\n",
    "A=A*b2\n",
    " \n",
    "u = x + noise\n",
    "\n",
    "\n",
    "y = np.dot(A, x)\n",
    "np.shape(x)"
   ]
  },
  {
   "cell_type": "code",
   "execution_count": 18,
   "metadata": {},
   "outputs": [
    {
     "name": "stdout",
     "output_type": "stream",
     "text": [
      "Iteration 1\r"
     ]
    },
    {
     "data": {
      "text/plain": [
       "1.6543746739778411e-14"
      ]
     },
     "execution_count": 18,
     "metadata": {},
     "output_type": "execute_result"
    }
   ],
   "source": [
    " x_est = cosamp(A, y,64 )\n",
    "# Score estimation\n",
    "np.linalg.norm(x - x_est) / np.linalg.norm(x)"
   ]
  },
  {
   "cell_type": "code",
   "execution_count": null,
   "metadata": {},
   "outputs": [],
   "source": [
    " "
   ]
  },
  {
   "cell_type": "code",
   "execution_count": null,
   "metadata": {},
   "outputs": [],
   "source": []
  },
  {
   "cell_type": "code",
   "execution_count": null,
   "metadata": {},
   "outputs": [],
   "source": [
    " "
   ]
  },
  {
   "cell_type": "code",
   "execution_count": null,
   "metadata": {
    "collapsed": true
   },
   "outputs": [],
   "source": []
  },
  {
   "cell_type": "code",
   "execution_count": null,
   "metadata": {
    "collapsed": true
   },
   "outputs": [],
   "source": []
  },
  {
   "cell_type": "code",
   "execution_count": null,
   "metadata": {
    "collapsed": true
   },
   "outputs": [],
   "source": []
  }
 ],
 "metadata": {
  "kernelspec": {
   "display_name": "Python 3",
   "language": "python",
   "name": "python3"
  },
  "language_info": {
   "codemirror_mode": {
    "name": "ipython",
    "version": 3
   },
   "file_extension": ".py",
   "mimetype": "text/x-python",
   "name": "python",
   "nbconvert_exporter": "python",
   "pygments_lexer": "ipython3",
   "version": "3.6.3"
  }
 },
 "nbformat": 4,
 "nbformat_minor": 2
}
